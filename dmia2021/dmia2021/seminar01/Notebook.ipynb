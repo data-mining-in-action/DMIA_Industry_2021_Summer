{
 "cells": [
  {
   "cell_type": "code",
   "execution_count": 1,
   "metadata": {
    "ExecuteTime": {
     "end_time": "2021-07-02T17:57:50.979992Z",
     "start_time": "2021-07-02T17:57:50.973164Z"
    }
   },
   "outputs": [
    {
     "name": "stdout",
     "output_type": "stream",
     "text": [
      "Hello world! I am example1\n"
     ]
    }
   ],
   "source": [
    "from dmia2021.seminar01 import example3"
   ]
  },
  {
   "cell_type": "code",
   "execution_count": 2,
   "metadata": {
    "ExecuteTime": {
     "end_time": "2021-07-02T17:57:50.986189Z",
     "start_time": "2021-07-02T17:57:50.981716Z"
    }
   },
   "outputs": [],
   "source": [
    "from dmia2021.common import prof"
   ]
  },
  {
   "cell_type": "code",
   "execution_count": 3,
   "metadata": {
    "ExecuteTime": {
     "end_time": "2021-07-02T17:57:51.098120Z",
     "start_time": "2021-07-02T17:57:50.988349Z"
    }
   },
   "outputs": [],
   "source": [
    "import numpy as np"
   ]
  },
  {
   "cell_type": "code",
   "execution_count": 4,
   "metadata": {
    "ExecuteTime": {
     "end_time": "2021-07-02T17:57:52.091537Z",
     "start_time": "2021-07-02T17:57:51.099325Z"
    }
   },
   "outputs": [
    {
     "name": "stdout",
     "output_type": "stream",
     "text": [
      "{'block': 0.9886739253997803}\n"
     ]
    }
   ],
   "source": [
    "ts = dict()\n",
    "with prof.TimedContext('block', ts):\n",
    "    np.random.uniform(size=100000000)\n",
    "print(ts)"
   ]
  },
  {
   "cell_type": "code",
   "execution_count": null,
   "metadata": {},
   "outputs": [],
   "source": []
  }
 ],
 "metadata": {
  "kernelspec": {
   "display_name": "dmia2021",
   "language": "python",
   "name": "dmia2021"
  },
  "language_info": {
   "codemirror_mode": {
    "name": "ipython",
    "version": 3
   },
   "file_extension": ".py",
   "mimetype": "text/x-python",
   "name": "python",
   "nbconvert_exporter": "python",
   "pygments_lexer": "ipython3",
   "version": "3.7.4"
  }
 },
 "nbformat": 4,
 "nbformat_minor": 2
}
